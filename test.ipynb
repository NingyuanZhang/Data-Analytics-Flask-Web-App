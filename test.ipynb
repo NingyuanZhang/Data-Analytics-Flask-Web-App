{
  "nbformat": 4,
  "nbformat_minor": 0,
  "metadata": {
    "colab": {
      "name": "test.ipynb",
      "provenance": [],
      "collapsed_sections": []
    },
    "kernelspec": {
      "name": "python3",
      "display_name": "Python 3"
    },
    "accelerator": "GPU"
  },
  "cells": [
    {
      "cell_type": "code",
      "metadata": {
        "id": "5az2iCOP9E4D",
        "colab_type": "code",
        "colab": {}
      },
      "source": [
        "import numpy as np\n",
        "import pandas as pd"
      ],
      "execution_count": 0,
      "outputs": []
    },
    {
      "cell_type": "code",
      "metadata": {
        "id": "cx6E7lUHAftZ",
        "colab_type": "code",
        "outputId": "e727628c-65e0-47da-9391-9065a1dfe55c",
        "colab": {
          "resources": {
            "http://localhost:8080/nbextensions/google.colab/files.js": {
              "data": "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",
              "ok": true,
              "headers": [
                [
                  "content-type",
                  "application/javascript"
                ]
              ],
              "status": 200,
              "status_text": ""
            }
          },
          "base_uri": "https://localhost:8080/",
          "height": 75
        }
      },
      "source": [
        "#upload file\n",
        "from google.colab import files\n",
        "uploaded = files.upload()"
      ],
      "execution_count": 7,
      "outputs": [
        {
          "output_type": "display_data",
          "data": {
            "text/html": [
              "\n",
              "     <input type=\"file\" id=\"files-9df680f1-67f1-4929-9a95-1da2d354e079\" name=\"files[]\" multiple disabled />\n",
              "     <output id=\"result-9df680f1-67f1-4929-9a95-1da2d354e079\">\n",
              "      Upload widget is only available when the cell has been executed in the\n",
              "      current browser session. Please rerun this cell to enable.\n",
              "      </output>\n",
              "      <script src=\"/nbextensions/google.colab/files.js\"></script> "
            ],
            "text/plain": [
              "<IPython.core.display.HTML object>"
            ]
          },
          "metadata": {
            "tags": []
          }
        },
        {
          "output_type": "stream",
          "text": [
            "Saving data_test_JAN24_2020.csv to data_test_JAN24_2020.csv\n"
          ],
          "name": "stdout"
        }
      ]
    },
    {
      "cell_type": "code",
      "metadata": {
        "id": "Gat7AoEKAkQ-",
        "colab_type": "code",
        "colab": {}
      },
      "source": [
        "import io\n",
        "df = pd.read_csv(io.BytesIO(uploaded['data_test_JAN24_2020.csv']))\n",
        "vals = df.values"
      ],
      "execution_count": 0,
      "outputs": []
    },
    {
      "cell_type": "markdown",
      "metadata": {
        "id": "oeUDLfwtVoOw",
        "colab_type": "text"
      },
      "source": [
        "Preprocess data set."
      ]
    },
    {
      "cell_type": "code",
      "metadata": {
        "id": "-wqq32q41rv8",
        "colab_type": "code",
        "colab": {}
      },
      "source": [
        "# get specific values for each cell \n",
        "data = []\n",
        "for row in vals:\n",
        "  strs = row[0].split('|')\n",
        "  data.append(strs)\n",
        "# generate a new dataframe \n",
        "cols = df.columns.values[0].split('|')[1:]\n",
        "cols.insert(0,\"ID\")\n",
        "newDF = pd.DataFrame(data, columns=cols)\n"
      ],
      "execution_count": 0,
      "outputs": []
    },
    {
      "cell_type": "code",
      "metadata": {
        "id": "Xe-GrhXz2KPR",
        "colab_type": "code",
        "outputId": "91409ce5-f2e9-4080-d0d1-ff4f95e512ec",
        "colab": {
          "base_uri": "https://localhost:8080/",
          "height": 289
        }
      },
      "source": [
        "newDF.head()"
      ],
      "execution_count": 0,
      "outputs": [
        {
          "output_type": "execute_result",
          "data": {
            "text/html": [
              "<div>\n",
              "<style scoped>\n",
              "    .dataframe tbody tr th:only-of-type {\n",
              "        vertical-align: middle;\n",
              "    }\n",
              "\n",
              "    .dataframe tbody tr th {\n",
              "        vertical-align: top;\n",
              "    }\n",
              "\n",
              "    .dataframe thead th {\n",
              "        text-align: right;\n",
              "    }\n",
              "</style>\n",
              "<table border=\"1\" class=\"dataframe\">\n",
              "  <thead>\n",
              "    <tr style=\"text-align: right;\">\n",
              "      <th></th>\n",
              "      <th>ID</th>\n",
              "      <th>clicks</th>\n",
              "      <th>complaints</th>\n",
              "      <th>hard_bounces</th>\n",
              "      <th>opens</th>\n",
              "      <th>rejects</th>\n",
              "      <th>sent</th>\n",
              "      <th>soft_bounces</th>\n",
              "      <th>template</th>\n",
              "      <th>time</th>\n",
              "      <th>unique_clicks</th>\n",
              "      <th>unique_opens</th>\n",
              "      <th>unsubs</th>\n",
              "    </tr>\n",
              "  </thead>\n",
              "  <tbody>\n",
              "    <tr>\n",
              "      <th>0</th>\n",
              "      <td>187</td>\n",
              "      <td>0</td>\n",
              "      <td>1</td>\n",
              "      <td>0</td>\n",
              "      <td>0</td>\n",
              "      <td>0</td>\n",
              "      <td>0</td>\n",
              "      <td>0</td>\n",
              "      <td>NEW COLLECTION - MAY 2018</td>\n",
              "      <td>5/23/2018 0:00</td>\n",
              "      <td>0</td>\n",
              "      <td>0</td>\n",
              "      <td>0</td>\n",
              "    </tr>\n",
              "    <tr>\n",
              "      <th>1</th>\n",
              "      <td>188</td>\n",
              "      <td>0</td>\n",
              "      <td>0</td>\n",
              "      <td>0</td>\n",
              "      <td>0</td>\n",
              "      <td>0</td>\n",
              "      <td>0</td>\n",
              "      <td>1</td>\n",
              "      <td>NEW COLLECTION - MAY 2018</td>\n",
              "      <td>5/21/2018 1:00</td>\n",
              "      <td>0</td>\n",
              "      <td>0</td>\n",
              "      <td>0</td>\n",
              "    </tr>\n",
              "    <tr>\n",
              "      <th>2</th>\n",
              "      <td>189</td>\n",
              "      <td>0</td>\n",
              "      <td>0</td>\n",
              "      <td>0</td>\n",
              "      <td>0</td>\n",
              "      <td>0</td>\n",
              "      <td>0</td>\n",
              "      <td>1</td>\n",
              "      <td>NEW COLLECTION - MAY 2018</td>\n",
              "      <td>5/21/2018 0:00</td>\n",
              "      <td>0</td>\n",
              "      <td>0</td>\n",
              "      <td>0</td>\n",
              "    </tr>\n",
              "    <tr>\n",
              "      <th>3</th>\n",
              "      <td>190</td>\n",
              "      <td>0</td>\n",
              "      <td>0</td>\n",
              "      <td>0</td>\n",
              "      <td>0</td>\n",
              "      <td>0</td>\n",
              "      <td>0</td>\n",
              "      <td>10</td>\n",
              "      <td>NEW COLLECTION - MAY 2018</td>\n",
              "      <td>5/20/2018 23:00</td>\n",
              "      <td>0</td>\n",
              "      <td>0</td>\n",
              "      <td>0</td>\n",
              "    </tr>\n",
              "    <tr>\n",
              "      <th>4</th>\n",
              "      <td>191</td>\n",
              "      <td>0</td>\n",
              "      <td>0</td>\n",
              "      <td>0</td>\n",
              "      <td>0</td>\n",
              "      <td>0</td>\n",
              "      <td>0</td>\n",
              "      <td>1</td>\n",
              "      <td>NEW COLLECTION - MAY 2018</td>\n",
              "      <td>5/20/2018 21:00</td>\n",
              "      <td>0</td>\n",
              "      <td>0</td>\n",
              "      <td>0</td>\n",
              "    </tr>\n",
              "  </tbody>\n",
              "</table>\n",
              "</div>"
            ],
            "text/plain": [
              "    ID clicks complaints  ... unique_clicks unique_opens unsubs\n",
              "0  187      0          1  ...             0            0      0\n",
              "1  188      0          0  ...             0            0      0\n",
              "2  189      0          0  ...             0            0      0\n",
              "3  190      0          0  ...             0            0      0\n",
              "4  191      0          0  ...             0            0      0\n",
              "\n",
              "[5 rows x 13 columns]"
            ]
          },
          "metadata": {
            "tags": []
          },
          "execution_count": 5
        }
      ]
    },
    {
      "cell_type": "markdown",
      "metadata": {
        "id": "JnCZ1UXVVecJ",
        "colab_type": "text"
      },
      "source": [
        "This is the function that returns result."
      ]
    },
    {
      "cell_type": "code",
      "metadata": {
        "id": "ppuNQYGsLiTC",
        "colab_type": "code",
        "colab": {}
      },
      "source": [
        "def getRes(templates,inputDF):\n",
        "  # only pick records whose templates are chosen ones\n",
        "  dfPicked = inputDF[(inputDF['template'].isin(templates))]\n",
        "  # calculate overall results\n",
        "  sentCount = 0\n",
        "  rejectCount = 0\n",
        "  openCount = 0\n",
        "  clickCount = 0\n",
        "  for index, row in dfPicked.iterrows():\n",
        "    sentCount += int(row['sent'])\n",
        "    rejectCount += int(row['rejects'])\n",
        "    openCount += int(row['opens'])\n",
        "    clickCount += int(row['clicks'])\n",
        "  deliveredCount = sentCount-rejectCount\n",
        "  print (\"sent = %d\" % (sentCount))\n",
        "  print (\"delivered = %d\" % (deliveredCount))  \n",
        "  print (\"delivery rate = %f\" % (deliveredCount/sentCount if sentCount>0 else 0))  \n",
        "  print (\"open rate = %f\" % (openCount/deliveredCount if deliveredCount>0 else 0))  \n",
        "  print (\"click rate = %f\" % (clickCount/deliveredCount if deliveredCount>0 else 0))  \n",
        "  dfSorted = dfPicked.copy()\n",
        "  dfSorted['time'] = pd.to_datetime(dfSorted['time']).dt.normalize()\n",
        "  # only pick events that happened in 2018 and 2019\n",
        "  dfSorted=dfSorted[(dfSorted['time']>=pd.datetime(2018,1,1))&(dfSorted['time']<=pd.datetime(2019,12,31))]\n",
        "  dfSorted=dfSorted.set_index('time')\n",
        "  dfSorted['sentCount'] = dfSorted['sent'].astype('int')\n",
        "  dfSorted['rejectCount'] = dfSorted['rejects'].astype('int')\n",
        "  dfSorted['openCount'] = dfSorted['opens'].astype('int')\n",
        "  dfSorted['clickCount'] = dfSorted['clicks'].astype('int')\n",
        "  # merge events in the same month\n",
        "  dfMerge=dfSorted.resample('M').sum()\n",
        "  dfMerge['deliveredCount'] = dfMerge['sentCount']-dfMerge['rejectCount']\n",
        "  dfMerge['delivery rate'] = dfMerge['deliveredCount']/dfMerge['sentCount']\n",
        "  dfMerge['open rate'] = dfMerge['openCount']/dfMerge['deliveredCount']\n",
        "  dfMerge['clickrate'] = dfMerge['clickCount']/dfMerge['deliveredCount']\n",
        "  dfMerge = dfMerge[(dfMerge['sentCount']>0)]\n",
        "  dfMerge = dfMerge.to_period('M')\n",
        "  return dfMerge"
      ],
      "execution_count": 0,
      "outputs": []
    },
    {
      "cell_type": "markdown",
      "metadata": {
        "id": "6_NuTCkS1VcU",
        "colab_type": "text"
      },
      "source": [
        "You can input the templates"
      ]
    },
    {
      "cell_type": "code",
      "metadata": {
        "id": "LOg3IWJ59_Lb",
        "colab_type": "code",
        "outputId": "555273c9-4e09-4507-94f7-37ac496323a8",
        "colab": {
          "base_uri": "https://localhost:8080/",
          "height": 35
        }
      },
      "source": [
        "inputTemp = input()"
      ],
      "execution_count": 15,
      "outputs": [
        {
          "output_type": "stream",
          "text": [
            "NEW COLLECTION - MAY 2018,WINTER SALE - JAN 2016\n"
          ],
          "name": "stdout"
        }
      ]
    },
    {
      "cell_type": "code",
      "metadata": {
        "id": "hrJTtunhEy9B",
        "colab_type": "code",
        "colab": {}
      },
      "source": [
        "candidates=(inputTemp.split(','))"
      ],
      "execution_count": 0,
      "outputs": []
    },
    {
      "cell_type": "code",
      "metadata": {
        "id": "XBWdISVZyy8_",
        "colab_type": "code",
        "outputId": "ead0395f-1f8b-4e05-a8aa-77e6ad0d829b",
        "colab": {
          "base_uri": "https://localhost:8080/",
          "height": 191
        }
      },
      "source": [
        "dfRes=getRes(candidates,newDF)\n",
        "print(dfRes)"
      ],
      "execution_count": 23,
      "outputs": [
        {
          "output_type": "stream",
          "text": [
            "sent = 29599\n",
            "delivered = 29167\n",
            "delivery rate = 0.985405\n",
            "open rate = 0.486132\n",
            "click rate = 0.068708\n",
            "         sentCount  rejectCount  openCount  ...  delivery rate  open rate  clickrate\n",
            "time                                        ...                                     \n",
            "2018-05      19387          181       8105  ...       0.990664   0.422004   0.059356\n",
            "\n",
            "[1 rows x 8 columns]\n"
          ],
          "name": "stdout"
        }
      ]
    },
    {
      "cell_type": "code",
      "metadata": {
        "id": "RsN2UobhAoX5",
        "colab_type": "code",
        "outputId": "d442fd01-0563-42fe-930f-1a0743931cc4",
        "colab": {
          "base_uri": "https://localhost:8080/",
          "height": 1000
        }
      },
      "source": [
        "possibleTemplates = sorted(list(set(newDF['template'].values)))\n",
        "for each in possibleTemplates:\n",
        "  print(each)"
      ],
      "execution_count": 22,
      "outputs": [
        {
          "output_type": "stream",
          "text": [
            "NEW COLLECTION - MAY 2018\n",
            "NEW COLLECTION - OCTOBER 2018\n",
            "NJ-WAREHOUSE-NOV2018\n",
            "PICTO-C1-NOV-2018\n",
            "PICTO-C2-NOV-2018\n",
            "PICTO-C3-NOV-2018\n",
            "PICTO-C4-NOV-2018\n",
            "PICTO-C5-NOV-2018\n",
            "PICTO-C6-NOV-2018\n",
            "PICTO-LABORDAY-2019\n",
            "PICTO-OPTIN-AUG-2019\n",
            "PICTO-P1-NOV-2018\n",
            "PICTO-P2-NOV-2018\n",
            "PICTO-P3-NOV-2018\n",
            "PICTO-P4-NOV-2018\n",
            "PICTO-P5-NOV-2018\n",
            "PICTO-P6-NOV-2018\n",
            "PICTO-REACTIVATION-PROSPECTS-JAN25-2019\n",
            "RB - PERFORMANCE - Collectors - S3\n",
            "RB ONBOARDING E2 NE\n",
            "RB Onboarding E1 CALI\n",
            "RB Onboarding E1 CANADA ENG\n",
            "RB Onboarding E1 CANADA FRA\n",
            "RB Onboarding E1 DCFL\n",
            "RB Onboarding E1 DCFL TEST\n",
            "RB Onboarding E1 NE\n",
            "RB Onboarding E1-June-2016\n",
            "RB Onboarding E2 CALI\n",
            "RB Onboarding E2 CALI TEST\n",
            "RB Onboarding E2 CANADA ENG\n",
            "RB Onboarding E2 CANADA FRA\n",
            "RB Onboarding E2 DCFL\n",
            "RB Onboarding E2 DCFL TEST\n",
            "RB Onboarding E2-June-2016\n",
            "RB Onboarding E3 NE\n",
            "RB Onboarding E3-June-2016\n",
            "RB Onboarding E4 CALI\n",
            "RB Onboarding E4 CALI TEST\n",
            "RB Onboarding E4 CANADA ENG\n",
            "RB Onboarding E4 CANADA FRA\n",
            "RB Onboarding E4 DCFL\n",
            "RB Onboarding E4 NE\n",
            "RB Onboarding E4-June-2016\n",
            "RB Performance - COLLECTORS S3 - CALI\n",
            "RB Performance - COLLECTORS S3 - CALI - TEST\n",
            "RB Performance - COLLECTORS S3 - CAN - ENG\n",
            "RB Performance - COLLECTORS S3 - CAN - FR\n",
            "RB Performance - COLLECTORS S3 - FLDC\n",
            "RB Performance - COLLECTORS S3 - FLDC - TEST\n",
            "RB Performance - COLLECTORS S3 - June 2016\n",
            "RB Performance - DISCO S2 - CALI\n",
            "RB Performance - DISCO S2 - CALI - TEST\n",
            "RB Performance - DISCO S2 - CAN - ENG\n",
            "RB Performance - DISCO S2 - CAN - FR\n",
            "RB Performance - DISCO S2 - FLDC\n",
            "RB Performance - DISCO S2 - FLDC - TEST\n",
            "RB Performance - DISCO S2 - June 2016\n",
            "RB Performance - DISCO S2 - NE\n",
            "RB Performance - DISCO S2 - NE - TEST\n",
            "RB Performance - INACTIVES - S4 - CALI\n",
            "RB Performance - INACTIVES - S4 - CALI - TEST\n",
            "RB Performance - INACTIVES - S4 - CAN - ENG\n",
            "RB Performance - INACTIVES - S4 - CAN - FR\n",
            "RB Performance - INACTIVES - S4 - FLDC\n",
            "RB Performance - INACTIVES S4\n",
            "RB Performance - INACTIVES S4 - June 2016\n",
            "RB Performance - MONO S1\n",
            "RB Performance - MONO S1 - CALI\n",
            "RB Performance - MONO S1 - CAN - ENG\n",
            "RB Performance - MONO S1 - CAN - FR\n",
            "RB Performance - MONO S1 - FLDC\n",
            "RB Performance - MONO S1 - FLDC - TEST\n",
            "RB Performance - MONO S1 - NE\n",
            "RB Performance - PROSPECTS S0\n",
            "RB Performance - PROSPECTS S0 - CALI\n",
            "RB Performance - PROSPECTS S0 - CAN - ENG\n",
            "RB Performance - PROSPECTS S0 - CAN - FRA\n",
            "RB Performance - PROSPECTS S0 - FLDC\n",
            "SUMMER SALE - JULY 2016\n",
            "SUMMER SALE - JULY 2017\n",
            "SUMMER SALE - JULY 2018\n",
            "WINTER SALE - JAN 2016\n",
            "WINTER SALE - JAN 2017\n",
            "WINTER SALE - JAN 2019\n",
            "WINTER SALE 2018\n",
            "rb-onboarding-e1-cali-test\n"
          ],
          "name": "stdout"
        }
      ]
    }
  ]
}